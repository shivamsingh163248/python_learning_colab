{
  "nbformat": 4,
  "nbformat_minor": 0,
  "metadata": {
    "colab": {
      "provenance": [],
      "authorship_tag": "ABX9TyP3cMYhqRFm0vbw468xYYZB",
      "include_colab_link": true
    },
    "kernelspec": {
      "name": "python3",
      "display_name": "Python 3"
    },
    "language_info": {
      "name": "python"
    }
  },
  "cells": [
    {
      "cell_type": "markdown",
      "metadata": {
        "id": "view-in-github",
        "colab_type": "text"
      },
      "source": [
        "<a href=\"https://colab.research.google.com/github/shivamsingh163248/python_learning_colab/blob/main/Dictoneries_in_python_shivam.ipynb\" target=\"_parent\"><img src=\"https://colab.research.google.com/assets/colab-badge.svg\" alt=\"Open In Colab\"/></a>"
      ]
    },
    {
      "cell_type": "code",
      "execution_count": 3,
      "metadata": {
        "colab": {
          "base_uri": "https://localhost:8080/"
        },
        "id": "enouwFvp-1RA",
        "outputId": "c5b49d6a-2c74-4149-aa0a-73c434250c7a"
      },
      "outputs": [
        {
          "output_type": "stream",
          "name": "stdout",
          "text": [
            "shivam singh \n",
            "dict_keys(['name', 'roll no', 'school'])\n",
            "dict_values(['shivam singh ', 242211017, 'national institute of technology delhi'])\n",
            "{'name': 'shivam singh ', 'roll no': 242211017, 'school': 'national institute of technology delhi', 'year': 450}\n"
          ]
        }
      ],
      "source": [
        "#now learning the Dictonires in pyhton\n",
        "# frist creating the dictonires\n",
        "dict1 = {\"name\" : \"shivam singh \" , \"roll no\" : 242211017 , \"school\" : \"national institute of technology delhi\"}\n",
        "# now printing the dic\n",
        "print(dict1['name']) ;\n",
        "# now printing all the keys\n",
        "print(dict.keys(dict1)) ;\n",
        "\n",
        "# printing all the values\n",
        "print(dict.values(dict1)) ;\n",
        "\n",
        "# now set the values in the dict\n",
        "dict1['year'] = 450 ;\n",
        "\n",
        "# now print all the dict\n",
        "print(dict1) ;"
      ]
    },
    {
      "cell_type": "code",
      "source": [],
      "metadata": {
        "id": "pFkC5wT8ACLa"
      },
      "execution_count": null,
      "outputs": []
    }
  ]
}