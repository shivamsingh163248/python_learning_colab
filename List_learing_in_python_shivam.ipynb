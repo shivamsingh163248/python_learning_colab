{
  "nbformat": 4,
  "nbformat_minor": 0,
  "metadata": {
    "colab": {
      "provenance": [],
      "mount_file_id": "1xbv91oKbtglpWtLlds5vNl7n2Xz2JNoO",
      "authorship_tag": "ABX9TyMceAjdPYjt0/3QTiBrQiZ1",
      "include_colab_link": true
    },
    "kernelspec": {
      "name": "python3",
      "display_name": "Python 3"
    },
    "language_info": {
      "name": "python"
    }
  },
  "cells": [
    {
      "cell_type": "markdown",
      "metadata": {
        "id": "view-in-github",
        "colab_type": "text"
      },
      "source": [
        "<a href=\"https://colab.research.google.com/github/shivamsingh163248/python_learning_colab/blob/main/List_learing_in_python_shivam.ipynb\" target=\"_parent\"><img src=\"https://colab.research.google.com/assets/colab-badge.svg\" alt=\"Open In Colab\"/></a>"
      ]
    },
    {
      "cell_type": "code",
      "execution_count": 3,
      "metadata": {
        "colab": {
          "base_uri": "https://localhost:8080/"
        },
        "id": "R6ZzeXqXsZH0",
        "outputId": "12ed8731-0983-46ed-cd50-736e250d9ef9"
      },
      "outputs": [
        {
          "output_type": "stream",
          "name": "stdout",
          "text": [
            "[3, 5, 6, 5, 9, 78, 6, 4, 9, 3, 4]\n",
            "['shivam', 'shivam']\n"
          ]
        }
      ],
      "source": [
        "#how perform the list operatoin we are the using list operation\n",
        "llistX = [3,5,6]+[5,9,78,6]  ;\n",
        "li = [4,9,3,4] ;\n",
        "print(llistX+li) ;\n",
        "\n",
        "#list operation with\n",
        "z = [\"shivam\"]*2 ;\n",
        "print(z) ;\n",
        "\n"
      ]
    },
    {
      "cell_type": "code",
      "source": [
        "#checking the\n",
        "print(5 in [5,6,7,8,4]) ;"
      ],
      "metadata": {
        "colab": {
          "base_uri": "https://localhost:8080/"
        },
        "id": "FrKecKirxn00",
        "outputId": "f4c1bc75-9a5f-4e31-8317-4147bb413e0e"
      },
      "execution_count": 4,
      "outputs": [
        {
          "output_type": "stream",
          "name": "stdout",
          "text": [
            "True\n"
          ]
        }
      ]
    },
    {
      "cell_type": "code",
      "source": [
        "# i am writing in the second way\n",
        "prise = [5,7,6,4,3,23,5] ;\n",
        "#creating the operation\n",
        "print(5 in prise) ;"
      ],
      "metadata": {
        "colab": {
          "base_uri": "https://localhost:8080/"
        },
        "id": "nlxRyUA30AKm",
        "outputId": "59f570b4-0d8b-4edb-e0e7-fd74635c0f42"
      },
      "execution_count": 5,
      "outputs": [
        {
          "output_type": "stream",
          "name": "stdout",
          "text": [
            "True\n"
          ]
        }
      ]
    },
    {
      "cell_type": "code",
      "source": [
        "#using the for loop itrationg all the element\n",
        "for x in [45,76,5,4,3,5,3,5] : print(x) ;"
      ],
      "metadata": {
        "colab": {
          "base_uri": "https://localhost:8080/"
        },
        "id": "dhpxoZnB0YKM",
        "outputId": "f116bc73-15fe-4d96-8ce7-3c3e1fc89c04"
      },
      "execution_count": 6,
      "outputs": [
        {
          "output_type": "stream",
          "name": "stdout",
          "text": [
            "45\n",
            "76\n",
            "5\n",
            "4\n",
            "3\n",
            "5\n",
            "3\n",
            "5\n"
          ]
        }
      ]
    },
    {
      "cell_type": "code",
      "source": [],
      "metadata": {
        "id": "K4U5vKK70oT0"
      },
      "execution_count": null,
      "outputs": []
    }
  ]
}