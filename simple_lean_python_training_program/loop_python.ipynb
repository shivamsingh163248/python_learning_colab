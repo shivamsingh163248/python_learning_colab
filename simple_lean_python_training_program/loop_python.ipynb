{
 "cells": [
  {
   "cell_type": "code",
   "execution_count": 1,
   "metadata": {},
   "outputs": [
    {
     "name": "stdout",
     "output_type": "stream",
     "text": [
      "170\n"
     ]
    }
   ],
   "source": [
    "#learning the loop in the python \n",
    "#first the learning the loop how are the executed \n",
    "#for iterator_var in sequence : \n",
    "#statement\n",
    "\n",
    "digit = [34,4,45,45,4,34,4]\n",
    "#calculation all the values \n",
    "sum = 0 ; \n",
    "for i in digit :\n",
    "    sum += i ; \n",
    "print(sum) ; \n",
    "\n"
   ]
  },
  {
   "cell_type": "code",
   "execution_count": 3,
   "metadata": {},
   "outputs": [
    {
     "name": "stdout",
     "output_type": "stream",
     "text": [
      "34\n",
      "4\n",
      "45\n",
      "45\n",
      "4\n",
      "34\n",
      "4\n"
     ]
    }
   ],
   "source": [
    "#digit will calculated using the while loop \n",
    "count = 0 \n",
    "while (count < len(digit)) :\n",
    "    print(digit[count])\n",
    "    count = count+1 ; "
   ]
  },
  {
   "cell_type": "code",
   "execution_count": 4,
   "metadata": {},
   "outputs": [
    {
     "name": "stdout",
     "output_type": "stream",
     "text": [
      "5049\n"
     ]
    }
   ],
   "source": [
    "#calculation the 100 number \n",
    "a = 100 \n",
    "num = 1 ; \n",
    "sum = 0 \n",
    "\n",
    "#creating the while loop for the calculation all the 100 numbers \n",
    "while num < a :\n",
    "    num = num+1 \n",
    "    sum += num \n",
    "print(sum)\n"
   ]
  },
  {
   "cell_type": "code",
   "execution_count": 2,
   "metadata": {},
   "outputs": [
    {
     "name": "stdout",
     "output_type": "stream",
     "text": [
      "s\n",
      "h\n",
      "i\n",
      "v\n",
      "a\n",
      "m\n",
      " \n",
      "s\n",
      "i\n",
      "n\n",
      "g\n",
      "h\n",
      " \n"
     ]
    }
   ],
   "source": [
    "#creating the for loop in the string \n",
    "values = \"shivam singh \"\n",
    "for i in values:\n",
    "    print(i) "
   ]
  },
  {
   "cell_type": "code",
   "execution_count": 7,
   "metadata": {},
   "outputs": [
    {
     "name": "stdout",
     "output_type": "stream",
     "text": [
      "{3, 5, 6, 54, 43}\n",
      "None\n",
      "{354, 3, 5, 6, 54, 43}\n"
     ]
    }
   ],
   "source": [
    "#checking the  sets are the print \n",
    "sets = {3,5,6,43,3,54}\n",
    "print(sets)\n",
    "\n",
    "#noe checking the to set the values \n",
    "checks = sets.add(354) ; \n",
    "print(checks)\n",
    "print(sets)\n",
    "\n"
   ]
  },
  {
   "cell_type": "code",
   "execution_count": null,
   "metadata": {},
   "outputs": [],
   "source": [
    "#applied the string in the form of the list \n",
    "list_string = [\"mangos\" , \"gaps\" , \"watermelon\"]\n",
    "#creating the for loop for all the string which are the present in the list \n"
   ]
  },
  {
   "cell_type": "code",
   "execution_count": null,
   "metadata": {},
   "outputs": [],
   "source": []
  }
 ],
 "metadata": {
  "kernelspec": {
   "display_name": "Python 3",
   "language": "python",
   "name": "python3"
  },
  "language_info": {
   "codemirror_mode": {
    "name": "ipython",
    "version": 3
   },
   "file_extension": ".py",
   "mimetype": "text/x-python",
   "name": "python",
   "nbconvert_exporter": "python",
   "pygments_lexer": "ipython3",
   "version": "3.12.4"
  }
 },
 "nbformat": 4,
 "nbformat_minor": 2
}
