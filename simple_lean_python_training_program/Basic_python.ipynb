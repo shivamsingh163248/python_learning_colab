{
  "cells": [
    {
      "cell_type": "markdown",
      "metadata": {
        "colab_type": "text",
        "id": "view-in-github"
      },
      "source": [
        "<a href=\"https://colab.research.google.com/github/shivamsingh163248/python_learning_colab/blob/main/Basic_python.ipynb\" target=\"_parent\"><img src=\"https://colab.research.google.com/assets/colab-badge.svg\" alt=\"Open In Colab\"/></a>"
      ]
    },
    {
      "cell_type": "code",
      "execution_count": 8,
      "metadata": {
        "colab": {
          "base_uri": "https://localhost:8080/"
        },
        "id": "FlFET5A-Tm_w",
        "outputId": "57aaa09d-5e9a-4e2e-eb3d-56bb984e433f"
      },
      "outputs": [
        {
          "name": "stdout",
          "output_type": "stream",
          "text": [
            "this the data fo the checking type  <class 'int'>\n",
            "this the data type of the second <class 'str'>\n"
          ]
        }
      ],
      "source": [
        "#data type casting\n",
        "num = 47 ;\n",
        "num2 = \"34\" ;\n",
        "print(\"this the data fo the checking type \" , type(num)) ;\n",
        "#again print the data for the checking the data\n",
        "print(\"this the data type of the second\" , type(num2)) ;"
      ]
    },
    {
      "cell_type": "code",
      "execution_count": 9,
      "metadata": {
        "colab": {
          "base_uri": "https://localhost:8080/"
        },
        "id": "fd5GwCfpXRCM",
        "outputId": "e5d4968b-4038-4f3b-a95c-3b5be32eddf1"
      },
      "outputs": [
        {
          "name": "stdout",
          "output_type": "stream",
          "text": [
            "this the data type of the second <class 'int'>\n"
          ]
        }
      ],
      "source": [
        "#now let's learn the type casting\n",
        "num2 = int(num2) ;\n",
        "print(\"this the data type of the second\" , type(num2)) ;"
      ]
    },
    {
      "cell_type": "code",
      "execution_count": 10,
      "metadata": {
        "colab": {
          "base_uri": "https://localhost:8080/"
        },
        "id": "WSpqTsJBXrue",
        "outputId": "031b2872-9861-401d-efe1-5b1c88f9b13d"
      },
      "outputs": [
        {
          "name": "stdout",
          "output_type": "stream",
          "text": [
            "81\n"
          ]
        }
      ],
      "source": [
        "#now preforming the adding operation\n",
        "ans = num + num2 ;\n",
        "# now printing the value\n",
        "print(ans) ;"
      ]
    },
    {
      "cell_type": "code",
      "execution_count": 11,
      "metadata": {
        "colab": {
          "base_uri": "https://localhost:8080/"
        },
        "id": "2XO8sEM8YJfl",
        "outputId": "1146213d-cac0-4466-ac5c-9eacbcd3b267"
      },
      "outputs": [
        {
          "name": "stdout",
          "output_type": "stream",
          "text": [
            "788.0 120.0 151636.0 1.3592814371257484\n"
          ]
        }
      ],
      "source": [
        "#operation of data\n",
        "#Arthmatic opearion\n",
        "v1 =  float(input(\"enter the value the frist number :\")) ;\n",
        "v2 = float(input(\"enter the value of the second number\")) ;\n",
        "\n",
        "# now adding the operation\n",
        "add = v1+v2 ;\n",
        "sub = v1-v2 ;\n",
        "mul = v1*v2 ;\n",
        "div = v1/v2 ;\n",
        "mod = v1%v2 ;\n",
        "\n",
        "#now print all the values\n",
        "print(add  ,  sub , mul , div) ;"
      ]
    },
    {
      "cell_type": "code",
      "execution_count": 12,
      "metadata": {
        "colab": {
          "base_uri": "https://localhost:8080/"
        },
        "id": "_eU9IQi_cmcO",
        "outputId": "d3c59d4f-8b91-4e51-f7b4-96f88b9bf9c7"
      },
      "outputs": [
        {
          "name": "stdout",
          "output_type": "stream",
          "text": [
            "checking the number  False\n",
            "cehcking the number  True\n",
            "this comperion operation  True\n",
            "also checking using thease comend False\n",
            "for the equal False\n",
            "checking for the not equll to  True\n"
          ]
        }
      ],
      "source": [
        "a = 10 ;\n",
        "b = 50 ;\n",
        "# creating the if condition\n",
        "print(\"checking the number \",a>b) ;\n",
        "print(\"cehcking the number \" ,  a<b) ;\n",
        "print(\"this comperion operation \" , a<=b) ;\n",
        "print(\"also checking using thease comend\" , a>=b) ;\n",
        "print(\"for the equal\" , a == b) ;\n",
        "print(\"checking for the not equll to \"  , a!=b) ;"
      ]
    },
    {
      "cell_type": "code",
      "execution_count": 13,
      "metadata": {
        "colab": {
          "base_uri": "https://localhost:8080/"
        },
        "id": "pSGNX4EKgCOA",
        "outputId": "2dd5e8b3-c714-4ef6-843b-4755e02ee8f0"
      },
      "outputs": [
        {
          "name": "stdout",
          "output_type": "stream",
          "text": [
            "41\n",
            "34\n"
          ]
        }
      ],
      "source": [
        "#now learning the assignment operator\n",
        "Extra = 7 ;\n",
        "final = 34 ;\n",
        "final += Extra ;\n",
        "\n",
        "#printing all the assign operator\n",
        "print(final) ;\n",
        "final -= Extra ;\n",
        "print(final) ;\n",
        "final *= Extra ;\n"
      ]
    },
    {
      "cell_type": "code",
      "execution_count": 14,
      "metadata": {
        "colab": {
          "base_uri": "https://localhost:8080/"
        },
        "id": "_4MjRQPshNbZ",
        "outputId": "6261d55e-86e6-41f9-de57-20c2591c6856"
      },
      "outputs": [
        {
          "name": "stdout",
          "output_type": "stream",
          "text": [
            "this is the concanet opeartor shivamitisha\n",
            "this is the mul oper shivamshivam\n",
            "now printing the slice operaor i\n",
            "printing in range  hiv\n",
            "checking the present or not  True\n",
            "cheking if not avalabe False\n"
          ]
        }
      ],
      "source": [
        "#now learing the bit wise operatior\n",
        "str1 = \"shivam\" ;\n",
        "str2 = \"itisha\" ;\n",
        "\n",
        "#now printing all the operaion\n",
        "print(\"this is the concanet opeartor\" , str1+str2) ;\n",
        "print(\"this is the mul oper\" , str1*2) ;\n",
        "print(\"now printing the slice operaor\" , str1[2]) ;\n",
        "print(\"printing in range \" , str1[1:4]) ;\n",
        "print(\"checking the present or not \" , 'h' in str1) ;\n",
        "print(\"cheking if not avalabe\", 'i' not in str2) ;"
      ]
    },
    {
      "cell_type": "code",
      "execution_count": 15,
      "metadata": {
        "id": "wzeC5_7XriEt"
      },
      "outputs": [
        {
          "name": "stdout",
          "output_type": "stream",
          "text": [
            "(3, 5, 6, 5)\n"
          ]
        }
      ],
      "source": [
        "#now checking type casting the number\n",
        "tuple_testing = (3,5,6,5) ; \n",
        "#checking the print for the tuple \n",
        "print(tuple_testing) ; "
      ]
    },
    {
      "cell_type": "code",
      "execution_count": 16,
      "metadata": {},
      "outputs": [
        {
          "name": "stdout",
          "output_type": "stream",
          "text": [
            "5\n"
          ]
        }
      ],
      "source": [
        "print(tuple_testing[3]) ; "
      ]
    },
    {
      "cell_type": "code",
      "execution_count": 1,
      "metadata": {},
      "outputs": [
        {
          "name": "stdout",
          "output_type": "stream",
          "text": [
            "454\n",
            "454\n",
            "454.0\n"
          ]
        }
      ],
      "source": [
        "#now set the values \n",
        "#taking the input from the input \n",
        "\n",
        "integer_value_1 = input(\"this is the input \")\n",
        "print(integer_value_1) \n",
        "integer_value_2 = int(input(\"enter the fist number \")) \n",
        "\n",
        "print(integer_value_2) \n",
        "\n",
        "#creating the type casting of the values \n",
        "float_value = float(integer_value_2)  ; \n",
        "\n",
        "#and the print values of the float \n",
        "print(float_value) ; "
      ]
    },
    {
      "cell_type": "code",
      "execution_count": null,
      "metadata": {},
      "outputs": [],
      "source": []
    }
  ],
  "metadata": {
    "colab": {
      "authorship_tag": "ABX9TyOGmuvmq8Ukm5BwL7ljZ57x",
      "include_colab_link": true,
      "provenance": []
    },
    "kernelspec": {
      "display_name": "Python 3",
      "name": "python3"
    },
    "language_info": {
      "codemirror_mode": {
        "name": "ipython",
        "version": 3
      },
      "file_extension": ".py",
      "mimetype": "text/x-python",
      "name": "python",
      "nbconvert_exporter": "python",
      "pygments_lexer": "ipython3",
      "version": "3.12.4"
    }
  },
  "nbformat": 4,
  "nbformat_minor": 0
}
