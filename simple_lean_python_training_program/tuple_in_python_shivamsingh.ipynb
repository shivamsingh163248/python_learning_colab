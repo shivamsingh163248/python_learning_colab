{
  "nbformat": 4,
  "nbformat_minor": 0,
  "metadata": {
    "colab": {
      "provenance": [],
      "mount_file_id": "1dgyE9umXQKWLWTfnNqKSFmyA7nUiqG-U",
      "authorship_tag": "ABX9TyPBt9u7Rvv4lmH/SmzsPMMR",
      "include_colab_link": true
    },
    "kernelspec": {
      "name": "python3",
      "display_name": "Python 3"
    },
    "language_info": {
      "name": "python"
    }
  },
  "cells": [
    {
      "cell_type": "markdown",
      "metadata": {
        "id": "view-in-github",
        "colab_type": "text"
      },
      "source": [
        "<a href=\"https://colab.research.google.com/github/shivamsingh163248/python_learning_colab/blob/main/tuple_in_python_shivamsingh.ipynb\" target=\"_parent\"><img src=\"https://colab.research.google.com/assets/colab-badge.svg\" alt=\"Open In Colab\"/></a>"
      ]
    },
    {
      "cell_type": "code",
      "execution_count": 1,
      "metadata": {
        "colab": {
          "base_uri": "https://localhost:8080/"
        },
        "id": "3qLcQ96B2Pw1",
        "outputId": "ecaf2d10-1788-4e93-be23-7abb0113adc7"
      },
      "outputs": [
        {
          "output_type": "stream",
          "name": "stdout",
          "text": [
            "adding printing (4, 5, 67, 6, 8, 4)\n",
            "printing using the 2 shivam singh shivam singh \n",
            "4\n",
            "6\n",
            "7\n",
            "5\n",
            "67\n",
            "True\n"
          ]
        }
      ],
      "source": [
        "#now learning all the tuple file\n",
        "#we opearting same operation in list a list\n",
        "x = (4,5,67) ;\n",
        "y = (6,8,4) ;\n",
        "\n",
        "# adding the two tuples\n",
        "print(\"adding printing\" , x+y) ;\n",
        "\n",
        "# storing a string in the tuples and try to printing tuples\n",
        "st = (\"shivam singh \")  ;\n",
        "print(\"printing using the 2\" , st*2) ;\n",
        "\n",
        "\n",
        "#now printing a loop\n",
        "pr = (4,6,7,5,67) ;\n",
        "for x in pr : print(x) ;\n",
        "\n",
        "print( 4 in (4,6,2,4,5)) ;"
      ]
    },
    {
      "cell_type": "code",
      "source": [],
      "metadata": {
        "id": "1xGWOMS85Iai"
      },
      "execution_count": null,
      "outputs": []
    }
  ]
}