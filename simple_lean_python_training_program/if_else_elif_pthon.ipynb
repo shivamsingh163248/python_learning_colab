{
 "cells": [
  {
   "cell_type": "code",
   "execution_count": 1,
   "metadata": {},
   "outputs": [],
   "source": [
    "#learning the else if condition \n",
    "first_num = input(\"enter the first number \") ; \n",
    "second_num = input(\"enter the second number  \") ; \n",
    "\n",
    "#creating the conation\n",
    "if first_num > second_num :\n",
    "    print(\"first number is the greater then the smaller number\")\n",
    "\n",
    "\n",
    "\n"
   ]
  },
  {
   "cell_type": "code",
   "execution_count": 2,
   "metadata": {},
   "outputs": [
    {
     "name": "stdout",
     "output_type": "stream",
     "text": [
      "fist number is greater number \n"
     ]
    }
   ],
   "source": [
    "#creating the if else condition \n",
    "first_num_1 = input(\"enter the name first name \") ; \n",
    "second_num_1 = input(\"enter the second name \") ; \n",
    "\n",
    "#creating the condition of using the if else \n",
    "if first_num_1 > second_num_1 : \n",
    "    print(\"fist number is greater number \") ; \n",
    "else :\n",
    "    print(\"second number is greater number \") ; \n"
   ]
  },
  {
   "cell_type": "code",
   "execution_count": 5,
   "metadata": {},
   "outputs": [
    {
     "name": "stdout",
     "output_type": "stream",
     "text": [
      "fifth conation\n"
     ]
    }
   ],
   "source": [
    "#learning the elif use \n",
    "num_1 = 20  \n",
    "\n",
    "if num_1 > 50 :\n",
    "    print(\"check the first condition \")\n",
    "elif num_1 > 40 :\n",
    "    print(\"check the second condition \")\n",
    "elif num_1 > 30 :\n",
    "    print(\"third number\")\n",
    "elif num_1 > 20 :\n",
    "    print(\"fourth condition \")\n",
    "elif num_1 > 10 : \n",
    "    print(\"fifth conation\")\n",
    "else :\n",
    "    print(\"end\")\n"
   ]
  },
  {
   "cell_type": "code",
   "execution_count": 8,
   "metadata": {},
   "outputs": [
    {
     "name": "stdout",
     "output_type": "stream",
     "text": [
      "find\n"
     ]
    }
   ],
   "source": [
    "#learning the member ship condition in not in \n",
    "#which you want to find write the first\n",
    "\n",
    "shivam_num = [45,65,4,56,3,5,35,45]\n",
    "if 45 in shivam_num:\n",
    "    print(\"find\")\n",
    "else:\n",
    "    print(\"not find\")\n",
    "\n",
    "\n"
   ]
  },
  {
   "cell_type": "code",
   "execution_count": null,
   "metadata": {},
   "outputs": [],
   "source": []
  }
 ],
 "metadata": {
  "kernelspec": {
   "display_name": "Python 3",
   "language": "python",
   "name": "python3"
  },
  "language_info": {
   "codemirror_mode": {
    "name": "ipython",
    "version": 3
   },
   "file_extension": ".py",
   "mimetype": "text/x-python",
   "name": "python",
   "nbconvert_exporter": "python",
   "pygments_lexer": "ipython3",
   "version": "3.12.4"
  }
 },
 "nbformat": 4,
 "nbformat_minor": 2
}
