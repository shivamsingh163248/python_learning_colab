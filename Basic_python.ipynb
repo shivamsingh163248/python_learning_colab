{
  "nbformat": 4,
  "nbformat_minor": 0,
  "metadata": {
    "colab": {
      "provenance": [],
      "authorship_tag": "ABX9TyOETEJMbiuFM4TDp54KLICB",
      "include_colab_link": true
    },
    "kernelspec": {
      "name": "python3",
      "display_name": "Python 3"
    },
    "language_info": {
      "name": "python"
    }
  },
  "cells": [
    {
      "cell_type": "markdown",
      "metadata": {
        "id": "view-in-github",
        "colab_type": "text"
      },
      "source": [
        "<a href=\"https://colab.research.google.com/github/shivamsingh163248/python_learning_colab/blob/main/Basic_python.ipynb\" target=\"_parent\"><img src=\"https://colab.research.google.com/assets/colab-badge.svg\" alt=\"Open In Colab\"/></a>"
      ]
    },
    {
      "cell_type": "code",
      "execution_count": 1,
      "metadata": {
        "colab": {
          "base_uri": "https://localhost:8080/"
        },
        "id": "FlFET5A-Tm_w",
        "outputId": "57aaa09d-5e9a-4e2e-eb3d-56bb984e433f"
      },
      "outputs": [
        {
          "output_type": "stream",
          "name": "stdout",
          "text": [
            "this the data fo the checking type  <class 'int'>\n",
            "this the data type of the second <class 'str'>\n"
          ]
        }
      ],
      "source": [
        "#data type casting\n",
        "num = 47 ;\n",
        "num2 = \"34\" ;\n",
        "print(\"this the data fo the checking type \" , type(num)) ;\n",
        "#again print the data for the checking the data\n",
        "print(\"this the data type of the second\" , type(num2)) ;"
      ]
    },
    {
      "cell_type": "code",
      "source": [
        "#now let's learn the type casting\n",
        "num2 = int(num2) ;\n",
        "print(\"this the data type of the second\" , type(num2)) ;"
      ],
      "metadata": {
        "colab": {
          "base_uri": "https://localhost:8080/"
        },
        "id": "fd5GwCfpXRCM",
        "outputId": "e5d4968b-4038-4f3b-a95c-3b5be32eddf1"
      },
      "execution_count": 2,
      "outputs": [
        {
          "output_type": "stream",
          "name": "stdout",
          "text": [
            "this the data type of the second <class 'int'>\n"
          ]
        }
      ]
    },
    {
      "cell_type": "code",
      "source": [
        "#now preforming the adding operation\n",
        "ans = num + num2 ;\n",
        "# now printing the value\n",
        "print(ans) ;"
      ],
      "metadata": {
        "colab": {
          "base_uri": "https://localhost:8080/"
        },
        "id": "WSpqTsJBXrue",
        "outputId": "031b2872-9861-401d-efe1-5b1c88f9b13d"
      },
      "execution_count": 3,
      "outputs": [
        {
          "output_type": "stream",
          "name": "stdout",
          "text": [
            "81\n"
          ]
        }
      ]
    },
    {
      "cell_type": "code",
      "source": [],
      "metadata": {
        "id": "2XO8sEM8YJfl"
      },
      "execution_count": null,
      "outputs": []
    }
  ]
}